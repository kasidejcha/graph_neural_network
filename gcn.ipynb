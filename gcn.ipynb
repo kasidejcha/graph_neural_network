{
 "cells": [
  {
   "cell_type": "markdown",
   "metadata": {},
   "source": [
    "# Node2vec model using torch Geometric with Cora"
   ]
  },
  {
   "cell_type": "code",
   "execution_count": 17,
   "metadata": {},
   "outputs": [],
   "source": [
    "import torch\n",
    "from torch_geometric.datasets import Planetoid\n",
    "from torch_geometric.nn import SGConv\n",
    "from sklearn.manifold import TSNE\n",
    "import matplotlib.pyplot as plt\n",
    "import torch.nn.functional as F"
   ]
  },
  {
   "cell_type": "code",
   "execution_count": 18,
   "metadata": {},
   "outputs": [
    {
     "name": "stdout",
     "output_type": "stream",
     "text": [
      "cpu\n",
      "Cora:  Data(x=[2708, 1433], edge_index=[2, 10556], y=[2708], train_mask=[2708], val_mask=[2708], test_mask=[2708])\n"
     ]
    }
   ],
   "source": [
    "path = '/Users/kasidej/Documents/study/gnn/' # directory to download the dataset\n",
    "dataset = Planetoid(path, \"Cora\")\n",
    "data = dataset[0] # tensor representation of cora-planetoid data\n",
    "device = 'cuda' if torch.cuda.is_available() else 'cpu'\n",
    "print(device)\n",
    "print('Cora: ', data)"
   ]
  },
  {
   "cell_type": "code",
   "execution_count": 22,
   "metadata": {},
   "outputs": [],
   "source": [
    "sgc_model = SGConv(in_channels=data.num_features, # number of features\n",
    "                    out_channels=dataset.num_classes, # dimension of embedding\n",
    "                    K=1, cached=True)"
   ]
  },
  {
   "cell_type": "code",
   "execution_count": 23,
   "metadata": {},
   "outputs": [
    {
     "name": "stdout",
     "output_type": "stream",
     "text": [
      "Shape of the original data:  torch.Size([2708, 1433])\n",
      "Shape of the embedding data:  torch.Size([2708, 7])\n"
     ]
    }
   ],
   "source": [
    "# Get embedding\n",
    "print(\"Shape of the original data: \", data.x.shape)\n",
    "print(\"Shape of the embedding data: \", sgc_model(data.x, data.edge_index).shape)"
   ]
  },
  {
   "cell_type": "code",
   "execution_count": 32,
   "metadata": {},
   "outputs": [],
   "source": [
    "# construct the model for classification\n",
    "class sgcnet(torch.nn.Module):\n",
    "    def __init__(self):\n",
    "        super().__init__()\n",
    "        self.conv1 = SGConv(in_channels=data.num_features, # number of features\n",
    "                    out_channels=dataset.num_classes, # dimension of embedding\n",
    "                    K=1, cached=True)\n",
    "\n",
    "    def forward(self):\n",
    "        x = self.conv1(data.x, data.edge_index)\n",
    "\n",
    "        # computation of log softmax\n",
    "        return F.log_softmax(x, dim=1)"
   ]
  },
  {
   "cell_type": "code",
   "execution_count": 35,
   "metadata": {},
   "outputs": [
    {
     "name": "stdout",
     "output_type": "stream",
     "text": [
      "Parameter: conv1.lin.weight\n",
      "Shape: torch.Size([7, 1433])\n",
      "Parameter: conv1.lin.bias\n",
      "Shape: torch.Size([7])\n"
     ]
    }
   ],
   "source": [
    "model = sgcnet().to(device)\n",
    "data = data.to(device)\n",
    "optimizer = torch.optim.Adam(model.parameters(), lr=0.2, weight_decay=0.005)\n",
    "\n",
    "# What are the learning parameters?\n",
    "for i, parameters in model.named_parameters():\n",
    "    print(f\"Parameter: {i}\")\n",
    "    print(f\"Shape: {parameters.shape}\")"
   ]
  },
  {
   "cell_type": "code",
   "execution_count": 37,
   "metadata": {},
   "outputs": [
    {
     "data": {
      "text/plain": [
       "Data(x=[2708, 1433], edge_index=[2, 10556], y=[2708], train_mask=[2708], val_mask=[2708], test_mask=[2708])"
      ]
     },
     "execution_count": 37,
     "metadata": {},
     "output_type": "execute_result"
    }
   ],
   "source": [
    "data"
   ]
  },
  {
   "cell_type": "code",
   "execution_count": 40,
   "metadata": {},
   "outputs": [
    {
     "data": {
      "text/plain": [
       "tensor([[-1.9569, -1.9501, -1.9777,  ..., -1.9278, -1.9158, -1.9309],\n",
       "        [-1.9630, -1.8909, -1.9572,  ..., -1.9051, -2.0197, -1.9567],\n",
       "        [-1.9641, -1.8765, -1.9172,  ..., -1.9164, -2.0194, -1.9718],\n",
       "        ...,\n",
       "        [-1.9736, -1.9028, -1.9683,  ..., -1.9622, -1.9162, -2.0057],\n",
       "        [-1.9639, -1.8991, -1.9432,  ..., -1.9353, -1.9810, -1.9734],\n",
       "        [-1.9542, -1.8907, -1.9626,  ..., -1.9248, -1.9613, -1.9836]],\n",
       "       grad_fn=<LogSoftmaxBackward0>)"
      ]
     },
     "execution_count": 40,
     "metadata": {},
     "output_type": "execute_result"
    }
   ],
   "source": [
    "model()"
   ]
  },
  {
   "cell_type": "code",
   "execution_count": 41,
   "metadata": {},
   "outputs": [],
   "source": [
    "# Train\n",
    "def train():\n",
    "    model.train()\n",
    "    optimizer.zero_grad()\n",
    "    outputs = model()[data.train_mask]\n",
    "    inputs = data.y[data.train_mask]\n",
    "    loss = F.nll_loss(outputs, inputs)\n",
    "    loss.backward()\n",
    "    optimizer.step() # update parameters\n",
    "\n",
    "def test():\n",
    "    model.eval()\n",
    "    logits, accs = model(), []\n",
    "    for _, mask in data('train_mask', 'val_mask', 'test_mask'):\n",
    "        pred = logits[mask].max(1)[1] # transform log prob to actual label\n",
    "        acc = pred.eq(data.y[mask]).sum().item() / mask.sum().item()\n",
    "        accs.append(acc)\n",
    "    return accs"
   ]
  },
  {
   "cell_type": "code",
   "execution_count": 42,
   "metadata": {},
   "outputs": [
    {
     "name": "stdout",
     "output_type": "stream",
     "text": [
      "Epoch: 001, Train: 0.9714, Val: 0.5820, Test: 0.6270\n",
      "Epoch: 002, Train: 0.9929, Val: 0.7420, Test: 0.7480\n",
      "Epoch: 003, Train: 0.9929, Val: 0.7420, Test: 0.7480\n",
      "Epoch: 004, Train: 1.0000, Val: 0.7420, Test: 0.7480\n",
      "Epoch: 005, Train: 0.9929, Val: 0.7420, Test: 0.7480\n",
      "Epoch: 006, Train: 0.9929, Val: 0.7420, Test: 0.7480\n",
      "Epoch: 007, Train: 1.0000, Val: 0.7420, Test: 0.7480\n",
      "Epoch: 008, Train: 1.0000, Val: 0.7420, Test: 0.7480\n",
      "Epoch: 009, Train: 1.0000, Val: 0.7420, Test: 0.7480\n",
      "Epoch: 010, Train: 1.0000, Val: 0.7420, Test: 0.7480\n",
      "Epoch: 011, Train: 1.0000, Val: 0.7420, Test: 0.7480\n",
      "Epoch: 012, Train: 1.0000, Val: 0.7560, Test: 0.7760\n",
      "Epoch: 013, Train: 1.0000, Val: 0.7560, Test: 0.7760\n",
      "Epoch: 014, Train: 1.0000, Val: 0.7560, Test: 0.7760\n",
      "Epoch: 015, Train: 1.0000, Val: 0.7560, Test: 0.7760\n",
      "Epoch: 016, Train: 1.0000, Val: 0.7560, Test: 0.7760\n",
      "Epoch: 017, Train: 1.0000, Val: 0.7560, Test: 0.7760\n",
      "Epoch: 018, Train: 1.0000, Val: 0.7560, Test: 0.7760\n",
      "Epoch: 019, Train: 1.0000, Val: 0.7560, Test: 0.7760\n",
      "Epoch: 020, Train: 1.0000, Val: 0.7560, Test: 0.7760\n",
      "Epoch: 021, Train: 1.0000, Val: 0.7660, Test: 0.7750\n",
      "Epoch: 022, Train: 1.0000, Val: 0.7660, Test: 0.7750\n",
      "Epoch: 023, Train: 1.0000, Val: 0.7660, Test: 0.7750\n",
      "Epoch: 024, Train: 1.0000, Val: 0.7660, Test: 0.7750\n",
      "Epoch: 025, Train: 1.0000, Val: 0.7660, Test: 0.7750\n",
      "Epoch: 026, Train: 1.0000, Val: 0.7660, Test: 0.7750\n",
      "Epoch: 027, Train: 1.0000, Val: 0.7660, Test: 0.7750\n",
      "Epoch: 028, Train: 1.0000, Val: 0.7660, Test: 0.7750\n",
      "Epoch: 029, Train: 1.0000, Val: 0.7660, Test: 0.7750\n",
      "Epoch: 030, Train: 1.0000, Val: 0.7660, Test: 0.7750\n",
      "Epoch: 031, Train: 1.0000, Val: 0.7660, Test: 0.7750\n",
      "Epoch: 032, Train: 1.0000, Val: 0.7660, Test: 0.7750\n",
      "Epoch: 033, Train: 1.0000, Val: 0.7660, Test: 0.7750\n",
      "Epoch: 034, Train: 1.0000, Val: 0.7660, Test: 0.7750\n",
      "Epoch: 035, Train: 1.0000, Val: 0.7660, Test: 0.7750\n",
      "Epoch: 036, Train: 1.0000, Val: 0.7660, Test: 0.7750\n",
      "Epoch: 037, Train: 1.0000, Val: 0.7680, Test: 0.7810\n",
      "Epoch: 038, Train: 1.0000, Val: 0.7680, Test: 0.7810\n",
      "Epoch: 039, Train: 1.0000, Val: 0.7680, Test: 0.7810\n",
      "Epoch: 040, Train: 1.0000, Val: 0.7700, Test: 0.7890\n",
      "Epoch: 041, Train: 1.0000, Val: 0.7700, Test: 0.7890\n",
      "Epoch: 042, Train: 1.0000, Val: 0.7700, Test: 0.7890\n",
      "Epoch: 043, Train: 1.0000, Val: 0.7780, Test: 0.7950\n",
      "Epoch: 044, Train: 1.0000, Val: 0.7780, Test: 0.7950\n",
      "Epoch: 045, Train: 1.0000, Val: 0.7780, Test: 0.7950\n",
      "Epoch: 046, Train: 1.0000, Val: 0.7780, Test: 0.7950\n",
      "Epoch: 047, Train: 1.0000, Val: 0.7780, Test: 0.7950\n",
      "Epoch: 048, Train: 1.0000, Val: 0.7780, Test: 0.7950\n",
      "Epoch: 049, Train: 1.0000, Val: 0.7780, Test: 0.7950\n",
      "Epoch: 050, Train: 1.0000, Val: 0.7780, Test: 0.7950\n",
      "Epoch: 051, Train: 1.0000, Val: 0.7780, Test: 0.7950\n",
      "Epoch: 052, Train: 1.0000, Val: 0.7780, Test: 0.7950\n",
      "Epoch: 053, Train: 1.0000, Val: 0.7780, Test: 0.7950\n",
      "Epoch: 054, Train: 1.0000, Val: 0.7780, Test: 0.7950\n",
      "Epoch: 055, Train: 1.0000, Val: 0.7780, Test: 0.7950\n",
      "Epoch: 056, Train: 1.0000, Val: 0.7780, Test: 0.7950\n",
      "Epoch: 057, Train: 1.0000, Val: 0.7780, Test: 0.7950\n",
      "Epoch: 058, Train: 1.0000, Val: 0.7780, Test: 0.7950\n",
      "Epoch: 059, Train: 1.0000, Val: 0.7780, Test: 0.7950\n",
      "Epoch: 060, Train: 1.0000, Val: 0.7780, Test: 0.7950\n",
      "Epoch: 061, Train: 1.0000, Val: 0.7780, Test: 0.7950\n",
      "Epoch: 062, Train: 1.0000, Val: 0.7780, Test: 0.7950\n",
      "Epoch: 063, Train: 1.0000, Val: 0.7780, Test: 0.7950\n",
      "Epoch: 064, Train: 1.0000, Val: 0.7780, Test: 0.7950\n",
      "Epoch: 065, Train: 1.0000, Val: 0.7780, Test: 0.7950\n",
      "Epoch: 066, Train: 1.0000, Val: 0.7780, Test: 0.7950\n",
      "Epoch: 067, Train: 1.0000, Val: 0.7780, Test: 0.7950\n",
      "Epoch: 068, Train: 1.0000, Val: 0.7780, Test: 0.7950\n",
      "Epoch: 069, Train: 1.0000, Val: 0.7780, Test: 0.7950\n",
      "Epoch: 070, Train: 1.0000, Val: 0.7780, Test: 0.7950\n",
      "Epoch: 071, Train: 1.0000, Val: 0.7780, Test: 0.7950\n",
      "Epoch: 072, Train: 1.0000, Val: 0.7780, Test: 0.7950\n",
      "Epoch: 073, Train: 1.0000, Val: 0.7780, Test: 0.7950\n",
      "Epoch: 074, Train: 1.0000, Val: 0.7780, Test: 0.7950\n",
      "Epoch: 075, Train: 1.0000, Val: 0.7780, Test: 0.7950\n",
      "Epoch: 076, Train: 1.0000, Val: 0.7780, Test: 0.7950\n",
      "Epoch: 077, Train: 1.0000, Val: 0.7780, Test: 0.7950\n",
      "Epoch: 078, Train: 1.0000, Val: 0.7780, Test: 0.7950\n",
      "Epoch: 079, Train: 1.0000, Val: 0.7780, Test: 0.7950\n",
      "Epoch: 080, Train: 1.0000, Val: 0.7780, Test: 0.7950\n",
      "Epoch: 081, Train: 1.0000, Val: 0.7780, Test: 0.7950\n",
      "Epoch: 082, Train: 1.0000, Val: 0.7780, Test: 0.7950\n",
      "Epoch: 083, Train: 1.0000, Val: 0.7780, Test: 0.7950\n",
      "Epoch: 084, Train: 1.0000, Val: 0.7780, Test: 0.7950\n",
      "Epoch: 085, Train: 1.0000, Val: 0.7780, Test: 0.7950\n",
      "Epoch: 086, Train: 1.0000, Val: 0.7780, Test: 0.7950\n",
      "Epoch: 087, Train: 1.0000, Val: 0.7780, Test: 0.7950\n",
      "Epoch: 088, Train: 1.0000, Val: 0.7780, Test: 0.7950\n",
      "Epoch: 089, Train: 1.0000, Val: 0.7780, Test: 0.7950\n",
      "Epoch: 090, Train: 1.0000, Val: 0.7780, Test: 0.7950\n",
      "Epoch: 091, Train: 1.0000, Val: 0.7780, Test: 0.7950\n",
      "Epoch: 092, Train: 1.0000, Val: 0.7780, Test: 0.7950\n",
      "Epoch: 093, Train: 1.0000, Val: 0.7780, Test: 0.7950\n",
      "Epoch: 094, Train: 1.0000, Val: 0.7780, Test: 0.7950\n",
      "Epoch: 095, Train: 1.0000, Val: 0.7780, Test: 0.7950\n",
      "Epoch: 096, Train: 1.0000, Val: 0.7780, Test: 0.7950\n",
      "Epoch: 097, Train: 1.0000, Val: 0.7780, Test: 0.7950\n",
      "Epoch: 098, Train: 1.0000, Val: 0.7780, Test: 0.7950\n",
      "Epoch: 099, Train: 1.0000, Val: 0.7780, Test: 0.7950\n",
      "Epoch: 100, Train: 1.0000, Val: 0.7780, Test: 0.7950\n"
     ]
    }
   ],
   "source": [
    "best_val_acc = test_acc = 0\n",
    "for epoch in range(1, 101):\n",
    "    train()\n",
    "    train_acc, val_acc, tmp_test_acc = test()\n",
    "    if val_acc > best_val_acc:\n",
    "        best_val_acc = val_acc\n",
    "        test_acc = tmp_test_acc\n",
    "    print(f'Epoch: {epoch:03d}, Train: {train_acc:.4f}, '\n",
    "          f'Val: {best_val_acc:.4f}, Test: {test_acc:.4f}')"
   ]
  },
  {
   "cell_type": "code",
   "execution_count": null,
   "metadata": {},
   "outputs": [],
   "source": []
  }
 ],
 "metadata": {
  "kernelspec": {
   "display_name": "Python 3.9.13 ('torch_env')",
   "language": "python",
   "name": "python3"
  },
  "language_info": {
   "codemirror_mode": {
    "name": "ipython",
    "version": 3
   },
   "file_extension": ".py",
   "mimetype": "text/x-python",
   "name": "python",
   "nbconvert_exporter": "python",
   "pygments_lexer": "ipython3",
   "version": "3.9.13"
  },
  "orig_nbformat": 4,
  "vscode": {
   "interpreter": {
    "hash": "058d03f6c4a3dd0a5d33ff95a9233b23893f19d72565b500b97931c44490b4f9"
   }
  }
 },
 "nbformat": 4,
 "nbformat_minor": 2
}
