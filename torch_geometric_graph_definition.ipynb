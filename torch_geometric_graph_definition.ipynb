{
 "cells": [
  {
   "cell_type": "code",
   "execution_count": 14,
   "metadata": {},
   "outputs": [
    {
     "name": "stdout",
     "output_type": "stream",
     "text": [
      "1.13.0.dev20220712\n"
     ]
    }
   ],
   "source": [
    "import torch\n",
    "print(torch.__version__)\n",
    "from torch_geometric.data import Data\n",
    "import networkx as nx\n",
    "from torch_geometric.utils.convert import to_networkx"
   ]
  },
  {
   "cell_type": "code",
   "execution_count": 13,
   "metadata": {},
   "outputs": [
    {
     "name": "stdout",
     "output_type": "stream",
     "text": [
      "Collecting networkx\n",
      "  Downloading networkx-2.8.5-py3-none-any.whl (2.0 MB)\n",
      "\u001b[2K     \u001b[90m━━━━━━━━━━━━━━━━━━━━━━━━━━━━━━━━━━━━━━━━\u001b[0m \u001b[32m2.0/2.0 MB\u001b[0m \u001b[31m4.1 MB/s\u001b[0m eta \u001b[36m0:00:00\u001b[0m00:01\u001b[0m00:01\u001b[0m\n",
      "\u001b[?25hInstalling collected packages: networkx\n",
      "Successfully installed networkx-2.8.5\n"
     ]
    }
   ],
   "source": [
    "# !pip install torch-scatter torch-sparse torch-cluster torch-spline-conv torch-geometric -f https://data.pyg.org/whl/torch-1.12.0+cpu.html\n",
    "# !pip install networkx"
   ]
  },
  {
   "cell_type": "code",
   "execution_count": 4,
   "metadata": {},
   "outputs": [
    {
     "name": "stderr",
     "output_type": "stream",
     "text": [
      "/var/folders/tm/lmhqcfxj7sd9mp5ws42m_s3m0000gn/T/ipykernel_29920/2615175618.py:16: DeprecationWarning: an integer is required (got type float).  Implicit conversion to integers using __int__ is deprecated, and may be removed in a future version of Python.\n",
      "  edge_weight = torch.tensor([\n"
     ]
    },
    {
     "data": {
      "text/plain": [
       "(tensor([[0, 0, 0, 1, 2, 2, 3, 3],\n",
       "         [1, 2, 3, 0, 0, 3, 2, 0]]),\n",
       " tensor([[-8,  1,  5,  8,  2, -3],\n",
       "         [-1,  0,  2, -3,  0,  1],\n",
       "         [ 1, -1,  0, -1,  2,  1],\n",
       "         [ 0,  1,  4, -2,  3,  4]]),\n",
       " tensor([[35],\n",
       "         [48],\n",
       "         [12],\n",
       "         [10],\n",
       "         [70],\n",
       "         [ 5],\n",
       "         [15],\n",
       "         [ 8]]))"
      ]
     },
     "execution_count": 4,
     "metadata": {},
     "output_type": "execute_result"
    }
   ],
   "source": [
    "# Create graph with randomly selected numbers\n",
    "\n",
    "# graph with 4 nodes\n",
    "edge_list = torch.tensor([\n",
    "    [0, 0, 0, 1, 2, 2, 3, 3], # source nodes\n",
    "    [1, 2, 3, 0, 0, 3, 2, 0] # target nodes\n",
    "], dtype = torch.long)\n",
    "\n",
    "# 6 features for each node 4x6 -> number of nodes x number of features\n",
    "node_features = torch.tensor([\n",
    "    [-8, 1, 5, 8 ,2, -3], # features of node 0\n",
    "    [-1, 0, 2, -3, 0, 1], # features of node 1\n",
    "    [1, -1, 0, -1, 2, 1], # features of node 2\n",
    "    [0, 1, 4, -2, 3, 4], # features of node 3\n",
    "], dtype = torch.long)\n",
    "\n",
    "# 1 weight for each edge\n",
    "edge_weight = torch.tensor([\n",
    "    [35.], # weight for nodes (0,1)\n",
    "    [48.], # weight for nodes (0,2)\n",
    "    [12.], # weight for nodes (0,3)\n",
    "    [10.], # weight for nodes (1,0)\n",
    "    [70.], # weight for nodes (2,0)\n",
    "    [5.], # weight for nodes (2,3)\n",
    "    [15.], # weight for nodes (3,2)\n",
    "    [8.], # weight for nodes (3,0)\n",
    "], dtype = torch.long)\n",
    "\n",
    "edge_list, node_features, edge_weight"
   ]
  },
  {
   "cell_type": "code",
   "execution_count": 6,
   "metadata": {},
   "outputs": [
    {
     "data": {
      "text/plain": [
       "Data(x=[4, 6], edge_index=[2, 8], edge_attr=[8, 1])"
      ]
     },
     "execution_count": 6,
     "metadata": {},
     "output_type": "execute_result"
    }
   ],
   "source": [
    "# Make a data object to store graph information\n",
    "data = Data(x = node_features, edge_index = edge_list, edge_attr = edge_weight)\n",
    "data"
   ]
  },
  {
   "cell_type": "code",
   "execution_count": 11,
   "metadata": {},
   "outputs": [
    {
     "name": "stdout",
     "output_type": "stream",
     "text": [
      "Number of nodes:  4\n",
      "Number of edges:  8\n",
      "Number of features per node(length of feature vector):  6\n",
      "Number of weights per edge(edge features):  1\n"
     ]
    }
   ],
   "source": [
    "print(\"Number of nodes: \", data.num_nodes)\n",
    "print(\"Number of edges: \", data.num_edges)\n",
    "print(\"Number of features per node(length of feature vector): \", data.num_node_features)\n",
    "print(\"Number of weights per edge(edge features): \", data.num_edge_features)"
   ]
  },
  {
   "cell_type": "code",
   "execution_count": 17,
   "metadata": {},
   "outputs": [
    {
     "data": {
      "image/png": "[encoded data removed]",
      "text/plain": [
       "<Figure size 432x288 with 1 Axes>"
      ]
     },
     "metadata": {},
     "output_type": "display_data"
    }
   ],
   "source": [
    "G = to_networkx(data)\n",
    "nx.draw_networkx(G)"
   ]
  },
  {
   "cell_type": "code",
   "execution_count": null,
   "metadata": {},
   "outputs": [],
   "source": []
  }
 ],
 "metadata": {
  "kernelspec": {
   "display_name": "Python 3.9.13 ('torch_env')",
   "language": "python",
   "name": "python3"
  },
  "language_info": {
   "codemirror_mode": {
    "name": "ipython",
    "version": 3
   },
   "file_extension": ".py",
   "mimetype": "text/x-python",
   "name": "python",
   "nbconvert_exporter": "python",
   "pygments_lexer": "ipython3",
   "version": "3.9.13"
  },
  "orig_nbformat": 4,
  "vscode": {
   "interpreter": {
    "hash": "058d03f6c4a3dd0a5d33ff95a9233b23893f19d72565b500b97931c44490b4f9"
   }
  }
 },
 "nbformat": 4,
 "nbformat_minor": 2
}
