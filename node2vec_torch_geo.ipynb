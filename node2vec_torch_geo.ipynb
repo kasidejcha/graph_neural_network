{
 "cells": [
  {
   "cell_type": "markdown",
   "metadata": {},
   "source": [
    "# Node2vec model using torch Geometric with Cora"
   ]
  },
  {
   "cell_type": "code",
   "execution_count": 16,
   "metadata": {},
   "outputs": [],
   "source": [
    "import torch\n",
    "from torch_geometric.datasets import Planetoid\n",
    "from torch_geometric.nn import Node2Vec\n",
    "from sklearn.manifold import TSNE\n",
    "import matplotlib.pyplot as plt"
   ]
  },
  {
   "cell_type": "code",
   "execution_count": 17,
   "metadata": {},
   "outputs": [
    {
     "name": "stdout",
     "output_type": "stream",
     "text": [
      "Cora:  Data(x=[2708, 1433], edge_index=[2, 10556], y=[2708], train_mask=[2708], val_mask=[2708], test_mask=[2708])\n"
     ]
    }
   ],
   "source": [
    "path = '/Users/kasidej/Documents/study/gnn/' # directory to download the dataset\n",
    "dataset = Planetoid(path, \"Cora\")\n",
    "data = dataset[0] # tensor representation of cora-planetoid data\n",
    "print('Cora: ', data)"
   ]
  },
  {
   "cell_type": "code",
   "execution_count": 18,
   "metadata": {},
   "outputs": [],
   "source": [
    "# Construct the model\n",
    "device = 'cuda' if torch.cuda.is_available() else 'cpu'\n",
    "node2vec_model = Node2Vec(data.edge_index, embedding_dim = 128, walk_length = 20, context_size = 10, \n",
    "                            walks_per_node = 10, num_negative_samples = 1, p = 1, q = 1, sparse = True).to(device)\n",
    "loader = node2vec_model.loader(batch_size = 128, shuffle=True, num_workers = 4) # num_workers = number of cores\n",
    "optimizer = torch.optim.SparseAdam(list(node2vec_model.parameters()), # list of parameters\n",
    "                                    lr = 0.01) # learning rate"
   ]
  },
  {
   "cell_type": "code",
   "execution_count": 19,
   "metadata": {},
   "outputs": [],
   "source": [
    "# Train function\n",
    "def train():\n",
    "    node2vec_model.train() # set training as true for the model\n",
    "    total_loss = 0\n",
    "    for pos_rw, neg_rw in loader:\n",
    "        optimizer.zero_grad()\n",
    "        loss = node2vec_model.loss(pos_rw, neg_rw)\n",
    "        loss.backward()\n",
    "        optimizer.step()\n",
    "        total_loss =+ loss.item()\n",
    "    return total_loss / len(loader)\n",
    "\n",
    "# plot the embedding\n",
    "def plot_point(colors):\n",
    "    node2vec_model.eval()\n",
    "    with torch.inference_model():\n",
    "        z = node2vec_model(torch.arange(data.num_nodes, device=device))\n",
    "        z = TSNE(n_components=2).fit_transform(z.cpu().numpy())\n",
    "        y = data.y.cpu().numpy()\n",
    "        plt.figure()\n",
    "        for i in range(dataset.num_classes):\n",
    "            plt.scatter(z[y==i, 0], z[y==i, 1], s=20, color = colors[i])\n",
    "        plt.axis('off')\n",
    "        plt.show()\n"
   ]
  },
  {
   "cell_type": "code",
   "execution_count": 20,
   "metadata": {},
   "outputs": [
    {
     "name": "stdout",
     "output_type": "stream",
     "text": [
      "Epoch: 01, Loss: 0.3250\n",
      "Epoch: 02, Loss: 0.2421\n",
      "Epoch: 03, Loss: 0.2130\n",
      "Epoch: 04, Loss: 0.1787\n",
      "Epoch: 05, Loss: 0.1495\n",
      "Epoch: 06, Loss: 0.1256\n",
      "Epoch: 07, Loss: 0.1100\n",
      "Epoch: 08, Loss: 0.0960\n",
      "Epoch: 09, Loss: 0.0842\n",
      "Epoch: 10, Loss: 0.0782\n",
      "Epoch: 11, Loss: 0.0690\n",
      "Epoch: 12, Loss: 0.0620\n",
      "Epoch: 13, Loss: 0.0590\n",
      "Epoch: 14, Loss: 0.0535\n",
      "Epoch: 15, Loss: 0.0520\n",
      "Epoch: 16, Loss: 0.0496\n",
      "Epoch: 17, Loss: 0.0478\n",
      "Epoch: 18, Loss: 0.0466\n",
      "Epoch: 19, Loss: 0.0450\n",
      "Epoch: 20, Loss: 0.0444\n",
      "Epoch: 21, Loss: 0.0440\n",
      "Epoch: 22, Loss: 0.0422\n",
      "Epoch: 23, Loss: 0.0419\n",
      "Epoch: 24, Loss: 0.0407\n",
      "Epoch: 25, Loss: 0.0411\n",
      "Epoch: 26, Loss: 0.0408\n",
      "Epoch: 27, Loss: 0.0412\n",
      "Epoch: 28, Loss: 0.0400\n",
      "Epoch: 29, Loss: 0.0393\n",
      "Epoch: 30, Loss: 0.0391\n",
      "Epoch: 31, Loss: 0.0385\n",
      "Epoch: 32, Loss: 0.0397\n",
      "Epoch: 33, Loss: 0.0392\n",
      "Epoch: 34, Loss: 0.0389\n",
      "Epoch: 35, Loss: 0.0385\n",
      "Epoch: 36, Loss: 0.0393\n",
      "Epoch: 37, Loss: 0.0383\n",
      "Epoch: 38, Loss: 0.0389\n",
      "Epoch: 39, Loss: 0.0386\n",
      "Epoch: 40, Loss: 0.0384\n",
      "Epoch: 41, Loss: 0.0386\n",
      "Epoch: 42, Loss: 0.0392\n",
      "Epoch: 43, Loss: 0.0388\n",
      "Epoch: 44, Loss: 0.0382\n",
      "Epoch: 45, Loss: 0.0381\n",
      "Epoch: 46, Loss: 0.0377\n",
      "Epoch: 47, Loss: 0.0380\n",
      "Epoch: 48, Loss: 0.0386\n",
      "Epoch: 49, Loss: 0.0385\n",
      "Epoch: 50, Loss: 0.0377\n",
      "Epoch: 51, Loss: 0.0378\n",
      "Epoch: 52, Loss: 0.0384\n",
      "Epoch: 53, Loss: 0.0378\n",
      "Epoch: 54, Loss: 0.0383\n",
      "Epoch: 55, Loss: 0.0369\n",
      "Epoch: 56, Loss: 0.0376\n",
      "Epoch: 57, Loss: 0.0381\n",
      "Epoch: 58, Loss: 0.0386\n",
      "Epoch: 59, Loss: 0.0379\n",
      "Epoch: 60, Loss: 0.0371\n",
      "Epoch: 61, Loss: 0.0373\n",
      "Epoch: 62, Loss: 0.0382\n",
      "Epoch: 63, Loss: 0.0370\n",
      "Epoch: 64, Loss: 0.0366\n",
      "Epoch: 65, Loss: 0.0374\n",
      "Epoch: 66, Loss: 0.0385\n",
      "Epoch: 67, Loss: 0.0374\n",
      "Epoch: 68, Loss: 0.0379\n",
      "Epoch: 69, Loss: 0.0372\n",
      "Epoch: 70, Loss: 0.0381\n",
      "Epoch: 71, Loss: 0.0368\n",
      "Epoch: 72, Loss: 0.0372\n",
      "Epoch: 73, Loss: 0.0377\n",
      "Epoch: 74, Loss: 0.0365\n",
      "Epoch: 75, Loss: 0.0376\n",
      "Epoch: 76, Loss: 0.0375\n",
      "Epoch: 77, Loss: 0.0373\n",
      "Epoch: 78, Loss: 0.0376\n",
      "Epoch: 79, Loss: 0.0375\n",
      "Epoch: 80, Loss: 0.0370\n",
      "Epoch: 81, Loss: 0.0372\n",
      "Epoch: 82, Loss: 0.0377\n",
      "Epoch: 83, Loss: 0.0381\n",
      "Epoch: 84, Loss: 0.0370\n",
      "Epoch: 85, Loss: 0.0373\n",
      "Epoch: 86, Loss: 0.0375\n",
      "Epoch: 87, Loss: 0.0383\n",
      "Epoch: 88, Loss: 0.0377\n",
      "Epoch: 89, Loss: 0.0379\n",
      "Epoch: 90, Loss: 0.0373\n",
      "Epoch: 91, Loss: 0.0368\n",
      "Epoch: 92, Loss: 0.0371\n",
      "Epoch: 93, Loss: 0.0375\n",
      "Epoch: 94, Loss: 0.0370\n",
      "Epoch: 95, Loss: 0.0372\n",
      "Epoch: 96, Loss: 0.0370\n",
      "Epoch: 97, Loss: 0.0372\n",
      "Epoch: 98, Loss: 0.0372\n",
      "Epoch: 99, Loss: 0.0374\n",
      "Epoch: 100, Loss: 0.0379\n"
     ]
    }
   ],
   "source": [
    "# Get embedding\n",
    "for epoch in range(1,101):\n",
    "    loss = train()\n",
    "    print(f'Epoch: {epoch:02d}, Loss: {loss:.4f}')"
   ]
  },
  {
   "cell_type": "code",
   "execution_count": 21,
   "metadata": {},
   "outputs": [
    {
     "name": "stderr",
     "output_type": "stream",
     "text": [
      "/opt/homebrew/Caskroom/miniforge/base/envs/torch_env/lib/python3.9/site-packages/sklearn/manifold/_t_sne.py:795: FutureWarning: The default initialization in TSNE will change from 'random' to 'pca' in 1.2.\n",
      "  warnings.warn(\n",
      "/opt/homebrew/Caskroom/miniforge/base/envs/torch_env/lib/python3.9/site-packages/sklearn/manifold/_t_sne.py:805: FutureWarning: The default learning rate in TSNE will change from 200.0 to 'auto' in 1.2.\n",
      "  warnings.warn(\n"
     ]
    },
    {
     "data": {
      "image/png": "[encoded data removed]",
      "text/plain": [
       "<Figure size 432x288 with 1 Axes>"
      ]
     },
     "metadata": {
      "needs_background": "light"
     },
     "output_type": "display_data"
    }
   ],
   "source": [
    "# plot 2D embedding\n",
    "colors = [\n",
    "        '#ffc0cb', '#bada55', '#008080', '#420420', '#7fe5f0', '#065535',\n",
    "        '#ffd700'\n",
    "    ]\n",
    "plot_point(colors)"
   ]
  },
  {
   "cell_type": "code",
   "execution_count": 23,
   "metadata": {},
   "outputs": [
    {
     "name": "stdout",
     "output_type": "stream",
     "text": [
      "Accuracy: 0.714\n"
     ]
    }
   ],
   "source": [
    "# classification\n",
    "# link: https://github.com/pyg-team/pytorch_geometric/blob/master/torch_geometric/nn/models/node2vec.py\n",
    "\n",
    "def test():\n",
    "    node2vec_model.eval() # Evaluate the model based on the trained parameters\n",
    "    z = node2vec_model() # Evaluate the model based on the trained parameters\n",
    "\n",
    "    # logistic regression\n",
    "    acc = node2vec_model.test(z[data.train_mask] ,data.y[data.train_mask],\n",
    "                              z[data.test_mask],data.y[data.test_mask],\n",
    "                              max_iter=150)\n",
    "    return acc\n",
    "\n",
    "print('Accuracy:', test())\n"
   ]
  },
  {
   "cell_type": "code",
   "execution_count": null,
   "metadata": {},
   "outputs": [],
   "source": []
  }
 ],
 "metadata": {
  "kernelspec": {
   "display_name": "Python 3.9.13 ('torch_env')",
   "language": "python",
   "name": "python3"
  },
  "language_info": {
   "codemirror_mode": {
    "name": "ipython",
    "version": 3
   },
   "file_extension": ".py",
   "mimetype": "text/x-python",
   "name": "python",
   "nbconvert_exporter": "python",
   "pygments_lexer": "ipython3",
   "version": "3.9.13"
  },
  "orig_nbformat": 4,
  "vscode": {
   "interpreter": {
    "hash": "058d03f6c4a3dd0a5d33ff95a9233b23893f19d72565b500b97931c44490b4f9"
   }
  }
 },
 "nbformat": 4,
 "nbformat_minor": 2
}
